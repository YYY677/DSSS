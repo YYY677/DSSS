{
  "cells": [
    {
      "cell_type": "markdown",
      "metadata": {
        "id": "view-in-github",
        "colab_type": "text"
      },
      "source": [
        "<a href=\"https://colab.research.google.com/github/YYY677/DSSS/blob/main/Week_5/Practical_05.ipynb\" target=\"_parent\"><img src=\"https://colab.research.google.com/assets/colab-badge.svg\" alt=\"Open In Colab\"/></a>"
      ]
    },
    {
      "cell_type": "markdown",
      "metadata": {
        "id": "umCFkGTqxMge"
      },
      "source": [
        "<div style=\"float:left\">\n",
        "    <h1 style=\"width:600px\">CASA0006 Practical 5: Neural networks using tensorflow</h1>\n",
        "</div>\n",
        "<div style=\"float:right\"><img width=\"100\" src=\"https://github.com/jreades/i2p/raw/master/img/casa_logo.jpg\" /></div>"
      ]
    },
    {
      "cell_type": "markdown",
      "metadata": {
        "id": "04QgGZc9bF5D"
      },
      "source": [
        "## Introduction\n",
        "In this practical, we will introduce [Tensorflow](https://www.tensorflow.org/guide/keras/overview) and use it to:\n",
        "\n",
        "1. Build a simple two-layer neural network for digit recognition;\n",
        "1. Train and evaluate this neural network;\n",
        "\n",
        "## Setting up Google Colab\n",
        "\n",
        "As installing and configuring tensorflow on laptop can be a pain, we recommend using Google Colab for this practical. Click [here](https://colab.research.google.com/github/huanfachen/DSSS/blob/main/Week_5/Practical_05.ipynb) to run this practical on Google Colab, which requires a Google account.\n",
        "\n",
        "Resource limit of Google Colab under free plan:\n",
        "\n",
        "- Memory: up to 12 GB.\n",
        "- Maximum duration of running a notebook: notebooks can run for at most **12 hours**, depending on availability and your usage patterns. (The notebook will die after at most 12 hours)\n",
        "- GPU duration: dynamic, up to a few hours. If you use GPU regularly, runtime durations will become shorter and shorter and disconnections more frequent.\n",
        "\n",
        "*Very Important* - we will use the GPU on Google Colab to accelerate the model training. To do this, go to 'Runtime' -> 'Change runtime type' -> Select 'T4 GPU' -> Save. See below.\n",
        "\n",
        "![](https://github.com/huanfachen/DSSS/blob/main/Figures/Colab_GPU_setting.jpg?raw=true)\n",
        "\n",
        "If you are following along in your own development environment, rather than Colab, see the [install guide](https://www.tensorflow.org/install) for setting up TensorFlow for development.\n",
        "\n",
        "Note: if you are using your own development environment, please make sure you have upgraded to the latest `pip` before installing TensorFlow 2 package."
      ]
    },
    {
      "cell_type": "markdown",
      "metadata": {
        "id": "oSZQLRhzqUcg"
      },
      "source": [
        "## Overview of TensorFlow"
      ]
    },
    {
      "cell_type": "markdown",
      "metadata": {
        "id": "WIeV4pbVqUcg"
      },
      "source": [
        "[TensorFlow](https://www.tensorflow.org/) is an open source library developed by Google for numerical computation. It is particularly well suited for large-scale machine learning.    \n",
        "\n",
        "TensorFlow is based on the construction of *computational graphs*. It has evolved considerably since it's open source release in 2015.  We will use TF2, which offers many additional features built on top of core features (the most important is `tf.keras` discussed in later lectures)."
      ]
    },
    {
      "cell_type": "markdown",
      "metadata": {
        "id": "xalpUC2NqUch"
      },
      "source": [
        "### Features of TF\n",
        "\n",
        "- Similar to [`numpy`](https://numpy.org/doc/stable/) but with GPU support.\n",
        "- Supports distributed computing.\n",
        "- Includes a kind of just-in-time (JIT) compiler to optimise speed and memory usage.\n",
        "- Computational graphs can be saved and exported.\n",
        "- Supports autodiff and provides numerous advanced optimisers."
      ]
    },
    {
      "cell_type": "markdown",
      "metadata": {
        "id": "3AE7sNskqUch"
      },
      "source": [
        "### TensorFlow's Python API\n",
        "\n",
        "<br>\n",
        "\n",
        "<img src=\"https://raw.githubusercontent.com/huanfachen/DSSS/main/Figures/tensorflow-Python-API.png\" width=\"700px\" style=\"display:block; margin:auto\"/>\n",
        "\n",
        "[Credit: Geron]"
      ]
    },
    {
      "cell_type": "markdown",
      "metadata": {
        "id": "Lju9S0RWqUch"
      },
      "source": [
        "### TensorFlow's Architecture\n",
        "\n",
        "<br>\n",
        "\n",
        "<img src=\"https://raw.githubusercontent.com/huanfachen/DSSS/main/Figures/tensorflow-Architecture.png\" width=\"700px\" style=\"display:block; margin:auto\"/>\n",
        "\n",
        "[Credit: Geron]"
      ]
    },
    {
      "cell_type": "markdown",
      "metadata": {
        "id": "oBDb2BFmqUch"
      },
      "source": [
        "At lowest level TensorFlow is implemented in C++ so that it is highly efficient."
      ]
    },
    {
      "cell_type": "markdown",
      "metadata": {
        "id": "Ci1UoNcPqUch"
      },
      "source": [
        "We will focus on the python TensorFlow and Keras interfaces in this practical.\n",
        "\n",
        "In real-world projects, if you use tensorflow, you will simply interact with the Keras interface but sometimes you might want to use the low-level python API for greater flexibility."
      ]
    },
    {
      "cell_type": "markdown",
      "metadata": {
        "id": "nLyIixu0qUci"
      },
      "source": [
        "### Hardware"
      ]
    },
    {
      "cell_type": "markdown",
      "metadata": {
        "id": "olNk-OwLqUci"
      },
      "source": [
        "One of the factors responsible for the dramatic recent growth of machine learning is advances in computing power.  \n",
        "\n",
        "In particular, hardware that supports high levels of parallelism."
      ]
    },
    {
      "cell_type": "markdown",
      "metadata": {
        "id": "qliIyuNlqUci"
      },
      "source": [
        "<br>\n",
        "\n",
        "<img src=\"https://raw.githubusercontent.com/huanfachen/DSSS/main/Figures/cpu_gpu_tpu.png\" width=\"750px\" style=\"display:block; margin:auto\"/>"
      ]
    },
    {
      "cell_type": "markdown",
      "metadata": {
        "id": "Den74K8pqUci"
      },
      "source": [
        "- Central Processing Unit (CPU):\n",
        "  - General purpose\n",
        "  - Low latency\n",
        "  - Low throughput\n",
        "  - Sequential\n",
        "  \n",
        "- Graphics Processing Unit (GPU)\n",
        "  - Specialised (for graphics initially)\n",
        "  - High latency\n",
        "  - High throughput\n",
        "  - Parallel execution\n",
        "  \n",
        "- Tensor Processing Unit (TPU)\n",
        "  - Specialised for matrix operations\n",
        "  - High latency\n",
        "  - Very high throughput\n",
        "  - Extreme parallel execution"
      ]
    },
    {
      "cell_type": "markdown",
      "metadata": {
        "id": "wdNQ5vu9qUci"
      },
      "source": [
        "In TensorFlow many operations are implemented in low-level kernels, optimised for specific hardware, e.g. CPUs, GPUS, or TPUs."
      ]
    },
    {
      "cell_type": "markdown",
      "metadata": {
        "id": "nXnWd-7IqUci"
      },
      "source": [
        "TensorFlow's execution engine will ensure operations are run efficiently (across multiple machines and devices if set up accordingly)."
      ]
    },
    {
      "cell_type": "markdown",
      "metadata": {
        "id": "ivw_O4DZqUci"
      },
      "source": [
        "<img src=\"https://raw.githubusercontent.com/astro-informatics/course_mlbd_images/master/Lecture11_Images/tensorflow-Architecture.png\" width=\"700px\" style=\"display:block; margin:auto\"/>\n",
        "\n",
        "[Credit: Geron]"
      ]
    },
    {
      "cell_type": "markdown",
      "metadata": {
        "id": "xJ50TxzAqUci"
      },
      "source": [
        "#### Aside: chips optimised for ML and AI are an active area of development\n",
        "\n",
        "Key events of GPU:\n",
        "- 1999: NVIDIA released GeForce 256 (the first GPU), originally for gaming tasks;\n",
        "- 2007: NVIDIA released CUDA (**Computing Unified Device Architecture**), a software layer that allows software to use the powerful processing capabilities of GPUs to perform tasks much faster, including AI and gaming;\n",
        "- 2022: OpenAI launched ChatGPT, which was trained on thousands of Nvidia A100 and H100 GPUs.\n",
        "\n",
        "Google developed TPU in 2016.\n",
        "\n",
        "[Graphcore](https://www.graphcore.ai/) developed the Intelligence Processing Unit (IPU) in 2016.\n",
        "\n",
        "[Groq](https://www.groq.com/) developed the Language Processing Unit (LPU)."
      ]
    },
    {
      "cell_type": "markdown",
      "metadata": {
        "id": "a7Q2hUwXqUci"
      },
      "source": [
        "******************"
      ]
    },
    {
      "cell_type": "markdown",
      "metadata": {
        "id": "nnrWf3PCEzXL"
      },
      "source": [
        "## Set up TensorFlow\n",
        "\n",
        "Import TensorFlow into your programme to get started:"
      ]
    },
    {
      "cell_type": "code",
      "execution_count": 3,
      "metadata": {
        "id": "0trJmd6DjqBZ",
        "colab": {
          "base_uri": "https://localhost:8080/"
        },
        "outputId": "f1054139-0202-412a-fd18-640b2ad76835"
      },
      "outputs": [
        {
          "output_type": "stream",
          "name": "stdout",
          "text": [
            "TensorFlow version: <module 'tensorflow._api.v2.version' from '/usr/local/lib/python3.11/dist-packages/tensorflow/_api/v2/version/__init__.py'>\n"
          ]
        }
      ],
      "source": [
        "import numpy as np\n",
        "import tensorflow as tf\n",
        "import matplotlib.pyplot as plt\n",
        "\n",
        "print(\"TensorFlow version:\", tf.version)"
      ]
    },
    {
      "cell_type": "markdown",
      "metadata": {
        "id": "_ff84q6KqUcj"
      },
      "source": [
        "## Key data type: tensors"
      ]
    },
    {
      "cell_type": "markdown",
      "metadata": {
        "id": "eSMRfiTTqUcj"
      },
      "source": [
        "TensorFlow API centers around \"Tensors\" (essentially multi-dimensional arrays of matrices), which are similar to numpy [`ndarray`](https://numpy.org/doc/stable/reference/generated/numpy.ndarray.html)."
      ]
    },
    {
      "cell_type": "markdown",
      "metadata": {
        "id": "C5sNVF8gqUcj"
      },
      "source": [
        "### Tensors"
      ]
    },
    {
      "cell_type": "markdown",
      "metadata": {
        "id": "falE8sPDqUcj"
      },
      "source": [
        "Can construct constant tensors with `tf.constant`."
      ]
    },
    {
      "cell_type": "code",
      "execution_count": 4,
      "metadata": {
        "colab": {
          "base_uri": "https://localhost:8080/"
        },
        "id": "tnBQRCIqqUcj",
        "outputId": "091fabe2-3d56-450e-c680-774126906f94"
      },
      "outputs": [
        {
          "output_type": "execute_result",
          "data": {
            "text/plain": [
              "<tf.Tensor: shape=(2, 3), dtype=float32, numpy=\n",
              "array([[1., 2., 3.],\n",
              "       [4., 5., 6.]], dtype=float32)>"
            ]
          },
          "metadata": {},
          "execution_count": 4
        }
      ],
      "source": [
        "tf.constant([[1., 2., 3.], [4., 5., 6.]]) # 2x3 matrix"
      ]
    },
    {
      "cell_type": "code",
      "execution_count": 5,
      "metadata": {
        "colab": {
          "base_uri": "https://localhost:8080/"
        },
        "id": "TaOQajAxqUcj",
        "outputId": "04355429-4746-47cc-e68a-27e3e783a768"
      },
      "outputs": [
        {
          "output_type": "execute_result",
          "data": {
            "text/plain": [
              "<tf.Tensor: shape=(), dtype=int32, numpy=42>"
            ]
          },
          "metadata": {},
          "execution_count": 5
        }
      ],
      "source": [
        "tf.constant(42) # scalar"
      ]
    },
    {
      "cell_type": "markdown",
      "metadata": {
        "id": "zh5C6Bw8qUcj"
      },
      "source": [
        "Tensors have a shape and data type (dtype)."
      ]
    },
    {
      "cell_type": "code",
      "execution_count": 6,
      "metadata": {
        "colab": {
          "base_uri": "https://localhost:8080/"
        },
        "id": "yacf2tCwqUck",
        "outputId": "65c43567-3b21-4814-82e7-d13122761fec"
      },
      "outputs": [
        {
          "output_type": "execute_result",
          "data": {
            "text/plain": [
              "TensorShape([2, 3])"
            ]
          },
          "metadata": {},
          "execution_count": 6
        }
      ],
      "source": [
        "t = tf.constant([[1., 2., 3.], [4., 5., 6.]])\n",
        "t.shape"
      ]
    },
    {
      "cell_type": "code",
      "execution_count": 7,
      "metadata": {
        "colab": {
          "base_uri": "https://localhost:8080/"
        },
        "id": "74cKWkvlqUck",
        "outputId": "0df188af-e86d-42bb-b6b3-ec0bb2f9f9bb"
      },
      "outputs": [
        {
          "output_type": "execute_result",
          "data": {
            "text/plain": [
              "tf.float32"
            ]
          },
          "metadata": {},
          "execution_count": 7
        }
      ],
      "source": [
        "t.dtype"
      ]
    },
    {
      "cell_type": "code",
      "source": [
        "t #所以其数据本质是存储为numpy格式"
      ],
      "metadata": {
        "colab": {
          "base_uri": "https://localhost:8080/"
        },
        "id": "R-bquIew3Imm",
        "outputId": "806a7ffc-0744-48dc-bb6a-0971ef307555"
      },
      "execution_count": 41,
      "outputs": [
        {
          "output_type": "execute_result",
          "data": {
            "text/plain": [
              "<tf.Tensor: shape=(2, 3), dtype=float32, numpy=\n",
              "array([[1., 2., 3.],\n",
              "       [4., 5., 6.]], dtype=float32)>"
            ]
          },
          "metadata": {},
          "execution_count": 41
        }
      ]
    },
    {
      "cell_type": "markdown",
      "metadata": {
        "id": "gOuQ0aOhqUck"
      },
      "source": [
        "### Indexing"
      ]
    },
    {
      "cell_type": "markdown",
      "metadata": {
        "id": "h8iGPpjqqUck"
      },
      "source": [
        "Tensor indexing is very similar to numpy."
      ]
    },
    {
      "cell_type": "code",
      "execution_count": 8,
      "metadata": {
        "colab": {
          "base_uri": "https://localhost:8080/"
        },
        "id": "k51if13OqUck",
        "outputId": "6c88cb1f-425b-40c8-d6d2-f30245e20bbc"
      },
      "outputs": [
        {
          "output_type": "execute_result",
          "data": {
            "text/plain": [
              "<tf.Tensor: shape=(2, 2), dtype=float32, numpy=\n",
              "array([[2., 3.],\n",
              "       [5., 6.]], dtype=float32)>"
            ]
          },
          "metadata": {},
          "execution_count": 8
        }
      ],
      "source": [
        "t[:, 1:]"
      ]
    },
    {
      "cell_type": "code",
      "execution_count": 9,
      "metadata": {
        "colab": {
          "base_uri": "https://localhost:8080/"
        },
        "id": "LSWRq4uWqUck",
        "outputId": "3f8b7f94-e4ff-4887-8337-b566728af24b"
      },
      "outputs": [
        {
          "output_type": "execute_result",
          "data": {
            "text/plain": [
              "<tf.Tensor: shape=(2, 1), dtype=float32, numpy=\n",
              "array([[2.],\n",
              "       [5.]], dtype=float32)>"
            ]
          },
          "metadata": {},
          "execution_count": 9
        }
      ],
      "source": [
        "t[..., 1, tf.newaxis]"
      ]
    },
    {
      "cell_type": "markdown",
      "metadata": {
        "id": "Vi5_7QXSqUck"
      },
      "source": [
        "### Operations"
      ]
    },
    {
      "cell_type": "markdown",
      "metadata": {
        "id": "klW61nrwqUck"
      },
      "source": [
        "Variety of tensor operations are possible."
      ]
    },
    {
      "cell_type": "code",
      "execution_count": 10,
      "metadata": {
        "colab": {
          "base_uri": "https://localhost:8080/"
        },
        "id": "sEpWw47RqUck",
        "outputId": "f43f464e-ad6d-4ac9-87a1-75808d6a6aa4"
      },
      "outputs": [
        {
          "output_type": "execute_result",
          "data": {
            "text/plain": [
              "<tf.Tensor: shape=(2, 3), dtype=float32, numpy=\n",
              "array([[11., 12., 13.],\n",
              "       [14., 15., 16.]], dtype=float32)>"
            ]
          },
          "metadata": {},
          "execution_count": 10
        }
      ],
      "source": [
        "t + 10"
      ]
    },
    {
      "cell_type": "code",
      "execution_count": 11,
      "metadata": {
        "colab": {
          "base_uri": "https://localhost:8080/"
        },
        "id": "y3J46nkHqUck",
        "outputId": "b38c1b39-119b-437d-8307-99165a62d526"
      },
      "outputs": [
        {
          "output_type": "execute_result",
          "data": {
            "text/plain": [
              "<tf.Tensor: shape=(2, 3), dtype=float32, numpy=\n",
              "array([[ 1.,  4.,  9.],\n",
              "       [16., 25., 36.]], dtype=float32)>"
            ]
          },
          "metadata": {},
          "execution_count": 11
        }
      ],
      "source": [
        "# square\n",
        "tf.square(t)"
      ]
    },
    {
      "cell_type": "code",
      "execution_count": 12,
      "metadata": {
        "colab": {
          "base_uri": "https://localhost:8080/"
        },
        "id": "TxkS5GioqUck",
        "outputId": "72f4e530-448c-464d-ddd2-ebf1ebc4fb9c"
      },
      "outputs": [
        {
          "output_type": "execute_result",
          "data": {
            "text/plain": [
              "<tf.Tensor: shape=(2, 2), dtype=float32, numpy=\n",
              "array([[14., 32.],\n",
              "       [32., 77.]], dtype=float32)>"
            ]
          },
          "metadata": {},
          "execution_count": 12
        }
      ],
      "source": [
        "# matrix multiplication\n",
        "t @ tf.transpose(t)"
      ]
    },
    {
      "cell_type": "markdown",
      "metadata": {
        "id": "mFmdoA0BqUck"
      },
      "source": [
        "## Tensors and numpy ndarray"
      ]
    },
    {
      "cell_type": "markdown",
      "metadata": {
        "id": "lEDcDNx3qUcn"
      },
      "source": [
        "Tensors and ndarray are highly compatible. Can create a tensor from ndarray."
      ]
    },
    {
      "cell_type": "code",
      "execution_count": 13,
      "metadata": {
        "colab": {
          "base_uri": "https://localhost:8080/"
        },
        "id": "Q1L2-2Y0qUco",
        "outputId": "bd8b2094-d9cb-4543-8682-f4aa03466029"
      },
      "outputs": [
        {
          "output_type": "execute_result",
          "data": {
            "text/plain": [
              "<tf.Tensor: shape=(3,), dtype=float64, numpy=array([2., 4., 5.])>"
            ]
          },
          "metadata": {},
          "execution_count": 13
        }
      ],
      "source": [
        "a = np.array([2., 4., 5.])\n",
        "tf.constant(a)"
      ]
    },
    {
      "cell_type": "markdown",
      "metadata": {
        "id": "E9TIleYYqUco"
      },
      "source": [
        "Can convert tensor to ndarray."
      ]
    },
    {
      "cell_type": "code",
      "execution_count": 14,
      "metadata": {
        "colab": {
          "base_uri": "https://localhost:8080/"
        },
        "id": "XSyZtxUPqUco",
        "outputId": "6b5c438a-2b99-4f8a-aae6-1938fe837685"
      },
      "outputs": [
        {
          "output_type": "execute_result",
          "data": {
            "text/plain": [
              "array([[1., 2., 3.],\n",
              "       [4., 5., 6.]], dtype=float32)"
            ]
          },
          "metadata": {},
          "execution_count": 14
        }
      ],
      "source": [
        "t.numpy()"
      ]
    },
    {
      "cell_type": "markdown",
      "metadata": {
        "id": "4f-8GIh9qUco"
      },
      "source": [
        "Can apply numpy operations to tensors and vice versa."
      ]
    },
    {
      "cell_type": "code",
      "execution_count": 15,
      "metadata": {
        "colab": {
          "base_uri": "https://localhost:8080/"
        },
        "id": "ZsbFnnn8qUco",
        "outputId": "7958828c-9f44-41dc-fd21-4ba109c596db"
      },
      "outputs": [
        {
          "output_type": "execute_result",
          "data": {
            "text/plain": [
              "array([[1., 2., 3.],\n",
              "       [4., 5., 6.]], dtype=float32)"
            ]
          },
          "metadata": {},
          "execution_count": 15
        }
      ],
      "source": [
        "np.array(t)"
      ]
    },
    {
      "cell_type": "code",
      "execution_count": 16,
      "metadata": {
        "colab": {
          "base_uri": "https://localhost:8080/"
        },
        "id": "xw5OE1GYqUco",
        "outputId": "a50ede6e-7667-4663-b8d8-5e894be9e008"
      },
      "outputs": [
        {
          "output_type": "execute_result",
          "data": {
            "text/plain": [
              "<tf.Tensor: shape=(3,), dtype=float64, numpy=array([ 4., 16., 25.])>"
            ]
          },
          "metadata": {},
          "execution_count": 16
        }
      ],
      "source": [
        "tf.square(a)"
      ]
    },
    {
      "cell_type": "code",
      "execution_count": 17,
      "metadata": {
        "colab": {
          "base_uri": "https://localhost:8080/"
        },
        "id": "qOxWhPdvqUco",
        "outputId": "e4eea92d-4859-4cbc-b30d-0514ecd15379"
      },
      "outputs": [
        {
          "output_type": "execute_result",
          "data": {
            "text/plain": [
              "array([[ 1.,  4.,  9.],\n",
              "       [16., 25., 36.]], dtype=float32)"
            ]
          },
          "metadata": {},
          "execution_count": 17
        }
      ],
      "source": [
        "np.square(t)"
      ]
    },
    {
      "cell_type": "markdown",
      "metadata": {
        "id": "E86Sw1B2qUco"
      },
      "source": [
        "## Gradients"
      ]
    },
    {
      "cell_type": "markdown",
      "metadata": {
        "id": "dIMFeUvtqUco"
      },
      "source": [
        "Notes: the section of 'gradients' is optional. If you don't understand it, it is fine.\n",
        "\n",
        "When training neural networks using gradient descent based approaches, we often need to compute the gradients, in particular, we need to compute the gradient of the cost function with respect to the model weights.  \n",
        "\n",
        "TensorFlow supports automatical differentiation, which allows gradients to be computed automatically. We will compute gradients analytically, numerically and using TensorFlow's Autodiff functionality at the following point."
      ]
    },
    {
      "cell_type": "markdown",
      "metadata": {
        "id": "Uw5GfagXqUco"
      },
      "source": [
        "Consider this function $ f(w_1, w_2) $ is defined as:\n",
        "\n",
        "$$\n",
        "f(w_1, w_2) = 3w_1^2 + 2w_1w_2\n",
        "$$\n",
        "\n"
      ]
    },
    {
      "cell_type": "code",
      "execution_count": 18,
      "metadata": {
        "id": "gNseiy6VqUco"
      },
      "outputs": [],
      "source": [
        "def f(w1, w2):\n",
        "    return 3 * w1 ** 2 + 2 * w1 * w2"
      ]
    },
    {
      "cell_type": "code",
      "execution_count": 19,
      "metadata": {
        "id": "Ivg95xWCqUco"
      },
      "outputs": [],
      "source": [
        "# example of w1 and w2\n",
        "w1, w2 = 5.0, 3.0"
      ]
    },
    {
      "cell_type": "markdown",
      "metadata": {
        "id": "tQtJfO_WqUco"
      },
      "source": [
        "### Computing gradients analytically"
      ]
    },
    {
      "cell_type": "code",
      "execution_count": 20,
      "metadata": {
        "id": "PZp55v9tqUco"
      },
      "outputs": [],
      "source": [
        "def df_dw1(w1, w2):\n",
        "    return 6 * w1 + 2 * w2\n",
        "def df_dw2(w1, w2):\n",
        "    return 2 * w1"
      ]
    },
    {
      "cell_type": "code",
      "execution_count": 21,
      "metadata": {
        "colab": {
          "base_uri": "https://localhost:8080/"
        },
        "id": "zyrgpJ5CqUcp",
        "outputId": "12ea4177-03a5-4354-fbad-ac5abe6653b4"
      },
      "outputs": [
        {
          "output_type": "execute_result",
          "data": {
            "text/plain": [
              "36.0"
            ]
          },
          "metadata": {},
          "execution_count": 21
        }
      ],
      "source": [
        "df_dw1(w1, w2)"
      ]
    },
    {
      "cell_type": "code",
      "execution_count": 22,
      "metadata": {
        "colab": {
          "base_uri": "https://localhost:8080/"
        },
        "id": "xMhrGjGRqUcp",
        "outputId": "1e0a1d5c-1294-45c4-81d5-574e295359a9"
      },
      "outputs": [
        {
          "output_type": "execute_result",
          "data": {
            "text/plain": [
              "10.0"
            ]
          },
          "metadata": {},
          "execution_count": 22
        }
      ],
      "source": [
        "df_dw2(w1, w2)"
      ]
    },
    {
      "cell_type": "markdown",
      "metadata": {
        "id": "Hq20ru_6qUcp"
      },
      "source": [
        "If we compute the gradient analytically, we would need an extra function evaluation for every gradient.  Computationally infeasible for many cases, e.g. large neural networks with hundreds of thousands or millions of parameters."
      ]
    },
    {
      "cell_type": "markdown",
      "metadata": {
        "id": "pzOXC7x3qUcp"
      },
      "source": [
        "### Computing gradients numerically\n",
        "\n",
        "Compute the gradient by finite differences."
      ]
    },
    {
      "cell_type": "code",
      "execution_count": 23,
      "metadata": {
        "colab": {
          "base_uri": "https://localhost:8080/"
        },
        "id": "grkBNvKWqUcp",
        "outputId": "570d047a-1de7-4011-f47c-91f473995422"
      },
      "outputs": [
        {
          "output_type": "execute_result",
          "data": {
            "text/plain": [
              "36.000003007075065"
            ]
          },
          "metadata": {},
          "execution_count": 23
        }
      ],
      "source": [
        "eps = 1e-6\n",
        "(f(w1 + eps, w2) - f(w1, w2)) / eps"
      ]
    },
    {
      "cell_type": "code",
      "execution_count": 24,
      "metadata": {
        "colab": {
          "base_uri": "https://localhost:8080/"
        },
        "id": "_zFt1cdjqUcp",
        "outputId": "b5fa20a3-33a8-42bb-db2f-a301ad30ccbb"
      },
      "outputs": [
        {
          "output_type": "execute_result",
          "data": {
            "text/plain": [
              "10.000000003174137"
            ]
          },
          "metadata": {},
          "execution_count": 24
        }
      ],
      "source": [
        "(f(w1, w2 + eps) - f(w1, w2)) / eps"
      ]
    },
    {
      "cell_type": "markdown",
      "metadata": {
        "id": "KIew8FB1qUcp"
      },
      "source": [
        "Note - the gradients computed numerically are **approximate**."
      ]
    },
    {
      "cell_type": "markdown",
      "metadata": {
        "id": "YAevMHDEqUcp"
      },
      "source": [
        "### Computing gradients with Autodiff"
      ]
    },
    {
      "cell_type": "markdown",
      "metadata": {
        "id": "c9lbJfUsqUcp"
      },
      "source": [
        "Autodiff builds derivatives of each stage of the computational graph so that gradients can be computed automatically and efficiently."
      ]
    },
    {
      "cell_type": "code",
      "execution_count": 25,
      "metadata": {
        "id": "3EnxA4c6qUcp"
      },
      "outputs": [],
      "source": [
        "w1, w2 = tf.Variable(5.), tf.Variable(3.)\n",
        "with tf.GradientTape() as tape:\n",
        "    z = f(w1, w2)\n",
        "\n",
        "gradients = tape.gradient(z, [w1, w2])"
      ]
    },
    {
      "cell_type": "code",
      "execution_count": 26,
      "metadata": {
        "colab": {
          "base_uri": "https://localhost:8080/"
        },
        "id": "s-ncWbYbqUcp",
        "outputId": "76df136b-638e-440e-9b33-32f96cd25fbe"
      },
      "outputs": [
        {
          "output_type": "execute_result",
          "data": {
            "text/plain": [
              "[<tf.Tensor: shape=(), dtype=float32, numpy=36.0>,\n",
              " <tf.Tensor: shape=(), dtype=float32, numpy=10.0>]"
            ]
          },
          "metadata": {},
          "execution_count": 26
        }
      ],
      "source": [
        "gradients"
      ]
    },
    {
      "cell_type": "markdown",
      "metadata": {
        "id": "psQzLzAEqUcp"
      },
      "source": [
        "Computing gradients with Autodiff only requires one computation, regardless of how many derivatives need to be computed. The results do not suffer from any numerical approximations, although it is limited by machine precision arithmetic."
      ]
    },
    {
      "cell_type": "markdown",
      "metadata": {
        "id": "UJ8DQ7crqUcp"
      },
      "source": [
        "## Building a simple neural network using TF"
      ]
    },
    {
      "cell_type": "markdown",
      "metadata": {
        "id": "mAjsBoKMqUcp"
      },
      "source": [
        "We will build a 2-hidden layers fully connected neural network (a.k.a multilayer perceptron) with TF. This example uses a low-level approach to better understand all mechanics behind building neural networks and the training process."
      ]
    },
    {
      "cell_type": "markdown",
      "metadata": {
        "id": "idjs0LNJqUcp"
      },
      "source": [
        "### Neural Network Overview\n",
        "\n",
        "<img src=\"http://cs231n.github.io/assets/nn1/neural_net2.jpeg\" alt=\"nn\" style=\"width: 400px;\"/>\n",
        "\n",
        "### MNIST Dataset Overview\n",
        "\n",
        "We will train the neural network to identify MNIST handwritten digits. The dataset contains 60,000 examples for training and 10,000 examples for testing. The digits have been size-normalized and centered in a fixed-size image (28x28 pixels) with values from 0 to 255.\n",
        "\n",
        "In this example, each image will be converted to float32, normalized to [0, 1] and flattened to a 1-D array of 784 features (28*28).\n",
        "\n",
        "![MNIST Dataset](http://neuralnetworksanddeeplearning.com/images/mnist_100_digits.png)\n",
        "\n",
        "More info: http://yann.lecun.com/exdb/mnist/"
      ]
    },
    {
      "cell_type": "code",
      "execution_count": 27,
      "metadata": {
        "id": "rc0basqkqUcp"
      },
      "outputs": [],
      "source": [
        "# MNIST dataset parameters.\n",
        "num_classes = 10 # total classes (0-9 digits).\n",
        "num_feature_one_dimension = 28 # img shape: 28*28\n",
        "\n",
        "# Training parameters.\n",
        "# learning_rate = 0.1\n",
        "# training_steps = 2000\n",
        "# batch_size = 256\n",
        "# display_step = 100\n",
        "\n",
        "# Network parameters.\n",
        "n_hidden_1 = 128 # 1st layer number of neurons.\n",
        "n_hidden_2 = 256 # 2nd layer number of neurons."
      ]
    },
    {
      "cell_type": "markdown",
      "metadata": {
        "id": "7NAbSZiaoJ4z"
      },
      "source": [
        "## Load a dataset\n",
        "\n",
        "Load and prepare the [MNIST dataset](http://yann.lecun.com/exdb/mnist/). Convert the sample data from integers to floating-point numbers:"
      ]
    },
    {
      "cell_type": "code",
      "execution_count": 28,
      "metadata": {
        "colab": {
          "base_uri": "https://localhost:8080/"
        },
        "id": "7FP5258xjs-v",
        "outputId": "7d2e363c-1530-49f1-d85e-d313bb45c0d4"
      },
      "outputs": [
        {
          "output_type": "stream",
          "name": "stdout",
          "text": [
            "Downloading data from https://storage.googleapis.com/tensorflow/tf-keras-datasets/mnist.npz\n",
            "\u001b[1m11490434/11490434\u001b[0m \u001b[32m━━━━━━━━━━━━━━━━━━━━\u001b[0m\u001b[37m\u001b[0m \u001b[1m0s\u001b[0m 0us/step\n"
          ]
        }
      ],
      "source": [
        "mnist = tf.keras.datasets.mnist\n",
        "\n",
        "(x_train, y_train), (x_test, y_test) = mnist.load_data()\n",
        "# normalisation - convert the sample data (range of 1-125) to floating numbers\n",
        "x_train, x_test = x_train / 255.0, x_test / 255.0"
      ]
    },
    {
      "cell_type": "code",
      "execution_count": 29,
      "metadata": {
        "colab": {
          "base_uri": "https://localhost:8080/",
          "height": 1000
        },
        "id": "TdPgRJrUGhCA",
        "outputId": "677a55fe-7c44-4507-9626-12baa03897fe"
      },
      "outputs": [
        {
          "output_type": "display_data",
          "data": {
            "text/plain": [
              "<Figure size 2000x1000 with 5 Axes>"
            ],
            "image/png": "[encoded data removed]"
          },
          "metadata": {}
        },
        {
          "output_type": "display_data",
          "data": {
            "text/plain": [
              "<Figure size 2000x1000 with 5 Axes>"
            ],
            "image/png": "[encoded data removed]"
          },
          "metadata": {}
        },
        {
          "output_type": "display_data",
          "data": {
            "text/plain": [
              "<Figure size 2000x1000 with 5 Axes>"
            ],
            "image/png": "[encoded data removed]"
          },
          "metadata": {}
        },
        {
          "output_type": "display_data",
          "data": {
            "text/plain": [
              "<Figure size 2000x1000 with 5 Axes>"
            ],
            "image/png": "[encoded data removed]"
          },
          "metadata": {}
        },
        {
          "output_type": "display_data",
          "data": {
            "text/plain": [
              "<Figure size 2000x1000 with 5 Axes>"
            ],
            "image/png": "[encoded data removed]"
          },
          "metadata": {}
        },
        {
          "output_type": "display_data",
          "data": {
            "text/plain": [
              "<Figure size 2000x1000 with 5 Axes>"
            ],
            "image/png": "[encoded data removed]"
          },
          "metadata": {}
        },
        {
          "output_type": "display_data",
          "data": {
            "text/plain": [
              "<Figure size 2000x1000 with 5 Axes>"
            ],
            "image/png": "[encoded data removed]"
          },
          "metadata": {}
        },
        {
          "output_type": "display_data",
          "data": {
            "text/plain": [
              "<Figure size 2000x1000 with 5 Axes>"
            ],
            "image/png": "[encoded data removed]"
          },
          "metadata": {}
        },
        {
          "output_type": "display_data",
          "data": {
            "text/plain": [
              "<Figure size 2000x1000 with 5 Axes>"
            ],
            "image/png": "[encoded data removed]"
          },
          "metadata": {}
        },
        {
          "output_type": "display_data",
          "data": {
            "text/plain": [
              "<Figure size 2000x1000 with 5 Axes>"
            ],
            "image/png": "[encoded data removed]"
          },
          "metadata": {}
        }
      ],
      "source": [
        "# function for visualising digits\n",
        "def plot_num(number):\n",
        "\n",
        "  item_index = np.where(y_train[:1000]==number)\n",
        "  subset=x_train[item_index]\n",
        "\n",
        "# 例如：\n",
        "# y_train[:10] = [7, 2, 1, 0, 4, 1, 4, 9, 5, 9]\n",
        "# np.where(y_train[:10] == 4)\n",
        "# # 输出: (array([4, 6]),) 表示索引 4 和 6 是 4\n",
        "\n",
        "  egs=5\n",
        "  fig, axs = plt.subplots(1,egs, figsize=(20,10))\n",
        "\n",
        "  for i in range(0,egs):\n",
        "    axs[i].imshow(subset[i])\n",
        "\n",
        "for x in range(0,10):\n",
        "  plot_num(x)"
      ]
    },
    {
      "cell_type": "markdown",
      "metadata": {
        "id": "BPZ68wASog_I"
      },
      "source": [
        "## Build a machine learning model\n",
        "\n",
        "Build a `tf.keras.Sequential` model by stacking layers."
      ]
    },
    {
      "cell_type": "code",
      "execution_count": 45,
      "metadata": {
        "id": "h3IKyzTCDNGo",
        "colab": {
          "base_uri": "https://localhost:8080/"
        },
        "outputId": "54514bb3-1fb1-4bef-be59-6e808c051cec"
      },
      "outputs": [
        {
          "output_type": "stream",
          "name": "stderr",
          "text": [
            "/usr/local/lib/python3.11/dist-packages/keras/src/layers/reshaping/flatten.py:37: UserWarning: Do not pass an `input_shape`/`input_dim` argument to a layer. When using Sequential models, prefer using an `Input(shape)` object as the first layer in the model instead.\n",
            "  super().__init__(**kwargs)\n"
          ]
        }
      ],
      "source": [
        "model = tf.keras.models.Sequential([\n",
        "  # input layer (28*28), which is flattened before being fed into the neural network\n",
        "  tf.keras.layers.Flatten(input_shape=(num_feature_one_dimension, num_feature_one_dimension)),\n",
        "  # First fully-connected hidden layer.\n",
        "  tf.keras.layers.Dense(n_hidden_1, activation='relu'),\n",
        "  # Second fully-connected hidden layer.\n",
        "  tf.keras.layers.Dense(n_hidden_2, activation='relu'),\n",
        "  # output layer  # 输出层，包含 10 个神经元，适用于多分类任务，使用 Softmax 激活函数\n",
        "  tf.keras.layers.Dense(10, activation='softmax')  # 多分类输出层\n",
        "])"
      ]
    },
    {
      "cell_type": "markdown",
      "metadata": {
        "id": "l2hiez2eIUz8"
      },
      "source": [
        "For each example, the model returns a vector of [logits](https://developers.google.com/machine-learning/glossary#logits) or [log-odds](https://developers.google.com/machine-learning/glossary#log-odds) scores, one for each class."
      ]
    },
    {
      "cell_type": "code",
      "execution_count": 46,
      "metadata": {
        "colab": {
          "base_uri": "https://localhost:8080/"
        },
        "id": "OeOrNdnkEEcR",
        "outputId": "3a71b5b1-7535-49ec-dd9e-bbdbe3ee05a9"
      },
      "outputs": [
        {
          "output_type": "execute_result",
          "data": {
            "text/plain": [
              "array([[0.17113207, 0.00778524, 0.02759811, 0.        , 0.        ,\n",
              "        0.        , 0.        , 0.35495102, 0.39541566, 0.04051374]],\n",
              "      dtype=float32)"
            ]
          },
          "metadata": {},
          "execution_count": 46
        }
      ],
      "source": [
        "predictions = model(x_train[:1]).numpy()\n",
        "predictions"
      ]
    },
    {
      "cell_type": "markdown",
      "metadata": {
        "id": "tgjhDQGcIniO"
      },
      "source": [
        "The `tf.nn.softmax` function converts these logits to *probabilities* for each class:"
      ]
    },
    {
      "cell_type": "code",
      "execution_count": 47,
      "metadata": {
        "colab": {
          "base_uri": "https://localhost:8080/"
        },
        "id": "zWSRnQ0WI5eq",
        "outputId": "7853f886-1dcf-4ee0-aeb2-aaea2c27c47b"
      },
      "outputs": [
        {
          "output_type": "execute_result",
          "data": {
            "text/plain": [
              "array([[0.10618861, 0.09018562, 0.09199028, 0.08948623, 0.08948623,\n",
              "        0.08948623, 0.08948623, 0.12761728, 0.13288717, 0.0931861 ]],\n",
              "      dtype=float32)"
            ]
          },
          "metadata": {},
          "execution_count": 47
        }
      ],
      "source": [
        "tf.nn.softmax(predictions).numpy()"
      ]
    },
    {
      "cell_type": "markdown",
      "metadata": {
        "id": "he5u_okAYS4a"
      },
      "source": [
        "Note: It is possible to bake the `tf.nn.softmax` function into the activation function for the last layer of the network. While this can make the model output more directly interpretable, this approach is discouraged as it's impossible to provide an exact and numerically stable loss calculation for all models when using a softmax output."
      ]
    },
    {
      "cell_type": "markdown",
      "metadata": {
        "id": "hQyugpgRIyrA"
      },
      "source": [
        "Define a loss function for training using `losses.SparseCategoricalCrossentropy`, which takes a vector of logits and a `True` index and returns a scalar loss for each example."
      ]
    },
    {
      "cell_type": "code",
      "execution_count": 48,
      "metadata": {
        "id": "RSkzdv8MD0tT"
      },
      "outputs": [],
      "source": [
        "loss_fn = tf.keras.losses.SparseCategoricalCrossentropy(from_logits=True)"
      ]
    },
    {
      "cell_type": "markdown",
      "metadata": {
        "id": "SfR4MsSDU880"
      },
      "source": [
        "This loss is equal to the negative log probability of the true class: The loss is zero if the model is sure of the correct class.\n",
        "\n",
        "This untrained model gives probabilities close to random (1/10 for each class), so the initial loss should be close to `-tf.math.log(1/10) ~= 2.3`."
      ]
    },
    {
      "cell_type": "code",
      "execution_count": 49,
      "metadata": {
        "colab": {
          "base_uri": "https://localhost:8080/"
        },
        "id": "NJWqEVrrJ7ZB",
        "outputId": "cfb8406a-892e-4867-a02a-2f2a5c971bba"
      },
      "outputs": [
        {
          "output_type": "execute_result",
          "data": {
            "text/plain": [
              "2.4136705"
            ]
          },
          "metadata": {},
          "execution_count": 49
        }
      ],
      "source": [
        "loss_fn(y_train[:1], predictions).numpy()"
      ]
    },
    {
      "cell_type": "markdown",
      "metadata": {
        "id": "ada44eb947d4"
      },
      "source": [
        "Before you start training, configure and compile the model using Keras `Model.compile`. Set the [`optimizer`](https://www.tensorflow.org/api_docs/python/tf/keras/optimizers) class to `adam`, set the `loss` to the `loss_fn` function you defined earlier, and specify a metric to be evaluated for the model by setting the `metrics` parameter to `accuracy`."
      ]
    },
    {
      "cell_type": "code",
      "execution_count": 50,
      "metadata": {
        "id": "9foNKHzTD2Vo"
      },
      "outputs": [],
      "source": [
        "model.compile(optimizer='adam',\n",
        "              loss=loss_fn,\n",
        "              metrics=['accuracy'])"
      ]
    },
    {
      "cell_type": "markdown",
      "metadata": {
        "id": "ix4mEL65on-w"
      },
      "source": [
        "## Train and evaluate your model\n",
        "\n",
        "Use the `Model.fit` method to adjust your model parameters and minimise the loss:"
      ]
    },
    {
      "cell_type": "code",
      "execution_count": 51,
      "metadata": {
        "colab": {
          "base_uri": "https://localhost:8080/"
        },
        "id": "y7suUbJXVLqP",
        "outputId": "992ebb31-ed5b-41bf-c9a3-672ee1647ead"
      },
      "outputs": [
        {
          "output_type": "stream",
          "name": "stdout",
          "text": [
            "Epoch 1/10\n",
            "\u001b[1m1875/1875\u001b[0m \u001b[32m━━━━━━━━━━━━━━━━━━━━\u001b[0m\u001b[37m\u001b[0m \u001b[1m6s\u001b[0m 2ms/step - accuracy: 0.7858 - loss: 0.6498\n",
            "Epoch 2/10\n",
            "\u001b[1m1875/1875\u001b[0m \u001b[32m━━━━━━━━━━━━━━━━━━━━\u001b[0m\u001b[37m\u001b[0m \u001b[1m5s\u001b[0m 2ms/step - accuracy: 0.8753 - loss: 0.3239\n",
            "Epoch 3/10\n",
            "\u001b[1m1875/1875\u001b[0m \u001b[32m━━━━━━━━━━━━━━━━━━━━\u001b[0m\u001b[37m\u001b[0m \u001b[1m5s\u001b[0m 2ms/step - accuracy: 0.8838 - loss: 0.2925\n",
            "Epoch 4/10\n",
            "\u001b[1m1875/1875\u001b[0m \u001b[32m━━━━━━━━━━━━━━━━━━━━\u001b[0m\u001b[37m\u001b[0m \u001b[1m4s\u001b[0m 2ms/step - accuracy: 0.8890 - loss: 0.2748\n",
            "Epoch 5/10\n",
            "\u001b[1m1875/1875\u001b[0m \u001b[32m━━━━━━━━━━━━━━━━━━━━\u001b[0m\u001b[37m\u001b[0m \u001b[1m7s\u001b[0m 3ms/step - accuracy: 0.8922 - loss: 0.2597\n",
            "Epoch 6/10\n",
            "\u001b[1m1875/1875\u001b[0m \u001b[32m━━━━━━━━━━━━━━━━━━━━\u001b[0m\u001b[37m\u001b[0m \u001b[1m4s\u001b[0m 2ms/step - accuracy: 0.8937 - loss: 0.2554\n",
            "Epoch 7/10\n",
            "\u001b[1m1875/1875\u001b[0m \u001b[32m━━━━━━━━━━━━━━━━━━━━\u001b[0m\u001b[37m\u001b[0m \u001b[1m4s\u001b[0m 2ms/step - accuracy: 0.8930 - loss: 0.2547\n",
            "Epoch 8/10\n",
            "\u001b[1m1875/1875\u001b[0m \u001b[32m━━━━━━━━━━━━━━━━━━━━\u001b[0m\u001b[37m\u001b[0m \u001b[1m5s\u001b[0m 3ms/step - accuracy: 0.8962 - loss: 0.2464\n",
            "Epoch 9/10\n",
            "\u001b[1m1875/1875\u001b[0m \u001b[32m━━━━━━━━━━━━━━━━━━━━\u001b[0m\u001b[37m\u001b[0m \u001b[1m4s\u001b[0m 2ms/step - accuracy: 0.8984 - loss: 0.2403\n",
            "Epoch 10/10\n",
            "\u001b[1m1875/1875\u001b[0m \u001b[32m━━━━━━━━━━━━━━━━━━━━\u001b[0m\u001b[37m\u001b[0m \u001b[1m5s\u001b[0m 3ms/step - accuracy: 0.8981 - loss: 0.2399\n"
          ]
        },
        {
          "output_type": "execute_result",
          "data": {
            "text/plain": [
              "<keras.src.callbacks.history.History at 0x79691c4902d0>"
            ]
          },
          "metadata": {},
          "execution_count": 51
        }
      ],
      "source": [
        "model.fit(x_train, y_train, epochs=10)"
      ]
    },
    {
      "cell_type": "markdown",
      "metadata": {
        "id": "4mDAAPFqVVgn"
      },
      "source": [
        "The `Model.evaluate` method checks the models performance, usually on a [Validation set](https://developers.google.com/machine-learning/glossary#validation-set) or [Test set](https://developers.google.com/machine-learning/glossary#test-set)."
      ]
    },
    {
      "cell_type": "code",
      "execution_count": 52,
      "metadata": {
        "colab": {
          "base_uri": "https://localhost:8080/"
        },
        "id": "F7dTAzgHDUh7",
        "outputId": "48e83abe-63b0-47ef-ec51-e71fcf49c415"
      },
      "outputs": [
        {
          "output_type": "stream",
          "name": "stdout",
          "text": [
            "313/313 - 2s - 6ms/step - accuracy: 0.8814 - loss: 0.3435\n"
          ]
        },
        {
          "output_type": "execute_result",
          "data": {
            "text/plain": [
              "[0.34354689717292786, 0.8813999891281128]"
            ]
          },
          "metadata": {},
          "execution_count": 52
        }
      ],
      "source": [
        "model.evaluate(x_test, y_test, verbose=2)"
      ]
    },
    {
      "cell_type": "markdown",
      "metadata": {
        "id": "T4JfEh7kvx6m"
      },
      "source": [
        "The image classifier is now trained to ~98% accuracy on this dataset. To learn more, read the [TensorFlow tutorials](https://www.tensorflow.org/tutorials/)."
      ]
    },
    {
      "cell_type": "markdown",
      "metadata": {
        "id": "Aj8NrlzlJqDG"
      },
      "source": [
        "If you want your model to return a probability, you can wrap the trained model, and attach the softmax to it:"
      ]
    },
    {
      "cell_type": "code",
      "execution_count": 53,
      "metadata": {
        "id": "rYb6DrEH0GMv"
      },
      "outputs": [],
      "source": [
        "probability_model = tf.keras.Sequential([\n",
        "  model,\n",
        "  tf.keras.layers.Softmax()\n",
        "])"
      ]
    },
    {
      "cell_type": "markdown",
      "metadata": {
        "id": "AwM1EjMRqUcs"
      },
      "source": [
        "To check a random data point and prediction:"
      ]
    },
    {
      "cell_type": "code",
      "execution_count": 54,
      "metadata": {
        "colab": {
          "base_uri": "https://localhost:8080/",
          "height": 482
        },
        "id": "cnqOZtUp1YR_",
        "outputId": "8c93cc3e-9edd-4dad-b43d-7861dd61e8cd"
      },
      "outputs": [
        {
          "output_type": "stream",
          "name": "stdout",
          "text": [
            "\u001b[1m313/313\u001b[0m \u001b[32m━━━━━━━━━━━━━━━━━━━━\u001b[0m\u001b[37m\u001b[0m \u001b[1m1s\u001b[0m 3ms/step\n",
            "3\n"
          ]
        },
        {
          "output_type": "execute_result",
          "data": {
            "text/plain": [
              "<matplotlib.image.AxesImage at 0x796901ef82d0>"
            ]
          },
          "metadata": {},
          "execution_count": 54
        },
        {
          "output_type": "display_data",
          "data": {
            "text/plain": [
              "<Figure size 640x480 with 1 Axes>"
            ],
            "image/png": "[encoded data removed]"
          },
          "metadata": {}
        }
      ],
      "source": [
        "#probability_model(x_test[:1])\n",
        "predictions=probability_model.predict(x_test)\n",
        "\n",
        "index=30\n",
        "\n",
        "print(np.argmax(predictions[index]))\n",
        "plt.imshow(x_test[index])"
      ]
    },
    {
      "cell_type": "markdown",
      "metadata": {
        "id": "-47O6_GLdRuT"
      },
      "source": [
        "## Conclusion\n",
        "\n",
        "Congratulations! You have trained a machine learning model using a prebuilt dataset using the [Keras](https://www.tensorflow.org/guide/keras/overview) API.\n",
        "\n",
        "For more examples of using Keras, check out the [tutorials](https://www.tensorflow.org/tutorials/keras/). To learn more about building models with Keras, read the [guides](https://www.tensorflow.org/guide/keras). If you want learn more about loading and preparing data, see the tutorials on [image data loading](https://www.tensorflow.org/tutorials/load_data/images) or [CSV data loading](https://www.tensorflow.org/tutorials/load_data/csv).\n"
      ]
    },
    {
      "cell_type": "markdown",
      "metadata": {
        "id": "ZicsunYgqUcs"
      },
      "source": [
        "## References and recommendations:\n",
        "\n",
        "1. Some materials are from Machine Learning with Big Data (SPCE0038) module at UCL."
      ]
    }
  ],
  "metadata": {
    "accelerator": "GPU",
    "colab": {
      "gpuType": "T4",
      "name": "MachineLearning.ipynb",
      "provenance": [],
      "include_colab_link": true
    },
    "kernelspec": {
      "display_name": "Python 3",
      "name": "python3"
    },
    "language_info": {
      "codemirror_mode": {
        "name": "ipython",
        "version": 3
      },
      "file_extension": ".py",
      "mimetype": "text/x-python",
      "name": "python",
      "nbconvert_exporter": "python",
      "pygments_lexer": "ipython3",
      "version": "3.9.6"
    },
    "vscode": {
      "interpreter": {
        "hash": "d0d2e6730a6c54b05bb0156bc757d1580bef729e038830e8c9d99016e96c4534"
      }
    }
  },
  "nbformat": 4,
  "nbformat_minor": 0
}